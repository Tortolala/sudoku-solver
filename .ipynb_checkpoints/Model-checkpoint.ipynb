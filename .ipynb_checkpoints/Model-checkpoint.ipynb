{
 "cells": [
  {
   "cell_type": "code",
   "execution_count": 8,
   "metadata": {},
   "outputs": [],
   "source": [
    "import torch\n",
    "import torchvision\n",
    "import torchvision.datasets as datasets\n",
    "import torch.nn as nn\n",
    "import torch.nn.functional as F\n",
    "import cv2 as cv\n",
    "import matplotlib.pyplot as plt\n",
    "%matplotlib inline\n",
    "import numpy as np\n",
    "import os, os.path\n",
    "import random\n",
    "from torch.autograd import Variable\n",
    "import math\n",
    "import plot\n",
    "import imutils"
   ]
  },
  {
   "cell_type": "code",
   "execution_count": 9,
   "metadata": {},
   "outputs": [],
   "source": [
    "def imgview(img, title = None):\n",
    "\n",
    "    fig = plt.figure(figsize = (10, 10))\n",
    "    plt.axis('off')    \n",
    "\n",
    "    plt.title(title) if title != None else None\n",
    "    \n",
    "    cmap_value = None if len(img.shape) == 3 else 'gray'\n",
    "\n",
    "    plt.imshow(img, cmap = cmap_value)\n",
    "\n",
    "    plt.show()"
   ]
  },
  {
   "cell_type": "code",
   "execution_count": 10,
   "metadata": {},
   "outputs": [],
   "source": [
    "n_batch = 128\n",
    "learning_rate = 0.001\n",
    "n_epoch = 10"
   ]
  },
  {
   "cell_type": "markdown",
   "metadata": {},
   "source": [
    "## Model"
   ]
  },
  {
   "cell_type": "code",
   "execution_count": 11,
   "metadata": {},
   "outputs": [],
   "source": [
    "class MnistCNN(nn.Module):\n",
    "    def __init__(self):\n",
    "        super(MnistCNN,self).__init__()\n",
    "        self.cnn1 = nn.Conv2d(in_channels=1, out_channels=16, kernel_size=3, stride=1, padding=1)\n",
    "        self.max1 = nn.MaxPool2d(2, 2)\n",
    "        self.cnn2 = nn.Conv2d(in_channels=16, out_channels=32, kernel_size=3, stride=1, padding=1)\n",
    "        self.max2 = nn.MaxPool2d(2, 2)\n",
    "        self.linear = nn.Linear(12*12*32,1024)\n",
    "        self.linear2 = nn.Linear(1024,10)\n",
    "        self.relu = nn.ReLU()\n",
    "        self.drop = nn.Dropout(p=0.3)\n",
    "  \n",
    "    def forward(self,x):\n",
    "        n = x.size(0)\n",
    "        x = self.relu(self.cnn1(x))\n",
    "        x = self.relu(self.max1(x))\n",
    "        x = self.relu(self.cnn2(x))\n",
    "        x = self.relu(self.max2(x))\n",
    "        x = x.view(n,-1)\n",
    "        x = self.linear(x)\n",
    "        x = self.drop(x)\n",
    "        x = self.linear2(x)\n",
    "        return x"
   ]
  },
  {
   "cell_type": "markdown",
   "metadata": {},
   "source": [
    "## Loading Model to predict"
   ]
  },
  {
   "cell_type": "code",
   "execution_count": 12,
   "metadata": {},
   "outputs": [],
   "source": [
    "model = MnistCNN()"
   ]
  },
  {
   "cell_type": "code",
   "execution_count": 14,
   "metadata": {},
   "outputs": [
    {
     "data": {
      "text/plain": [
       "<All keys matched successfully>"
      ]
     },
     "execution_count": 14,
     "metadata": {},
     "output_type": "execute_result"
    }
   ],
   "source": [
    "checkpoint = torch.load(\"checkpoint\", map_location=torch.device('cpu'))\n",
    "model.load_state_dict(checkpoint['model_state_dict'])"
   ]
  },
  {
   "cell_type": "markdown",
   "metadata": {},
   "source": [
    "## Predictions"
   ]
  },
  {
   "cell_type": "code",
   "execution_count": 15,
   "metadata": {},
   "outputs": [],
   "source": [
    "\n",
    "def predict(img):\n",
    "    new_img = torch.tensor([[img]])\n",
    "    x = model(new_img)\n",
    "    _, pred = torch.max(x,1)\n",
    "    return int(pred)"
   ]
  },
  {
   "cell_type": "code",
   "execution_count": 32,
   "metadata": {},
   "outputs": [
    {
     "data": {
      "image/png": "[encoded data removed]",
      "text/plain": [
       "<Figure size 720x720 with 1 Axes>"
      ]
     },
     "metadata": {
      "needs_background": "light"
     },
     "output_type": "display_data"
    },
    {
     "name": "stdout",
     "output_type": "stream",
     "text": [
      "Predicted:  7\n"
     ]
    }
   ],
   "source": [
    "tst = cv.imread('1.png', cv.IMREAD_UNCHANGED) \n",
    "# gray = cv.cvtColor(tst, cv.COLOR_BGR2GRAY) \n",
    "gray = cv.copyMakeBorder(tst, 10, 10, 10, 10, cv.BORDER_CONSTANT, value=255)\n",
    "gray = cv.resize(gray, dsize=(50,50), interpolation = cv.INTER_CUBIC)\n",
    "imgview(gray)\n",
    "print(\"Predicted: \", predict(np.array(gray, dtype='f')))"
   ]
  },
  {
   "cell_type": "code",
   "execution_count": null,
   "metadata": {},
   "outputs": [],
   "source": []
  }
 ],
 "metadata": {
  "kernelspec": {
   "display_name": "Python 3",
   "language": "python",
   "name": "python3"
  },
  "language_info": {
   "codemirror_mode": {
    "name": "ipython",
    "version": 3
   },
   "file_extension": ".py",
   "mimetype": "text/x-python",
   "name": "python",
   "nbconvert_exporter": "python",
   "pygments_lexer": "ipython3",
   "version": "3.7.2"
  }
 },
 "nbformat": 4,
 "nbformat_minor": 2
}
